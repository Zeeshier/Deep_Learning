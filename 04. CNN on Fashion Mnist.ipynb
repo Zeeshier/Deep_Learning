{
  "nbformat": 4,
  "nbformat_minor": 0,
  "metadata": {
    "colab": {
      "provenance": [],
      "authorship_tag": "ABX9TyMvkOUTZULrhTUM74wbNOlA"
    },
    "kernelspec": {
      "name": "python3",
      "display_name": "Python 3"
    },
    "language_info": {
      "name": "python"
    }
  },
  "cells": [
    {
      "cell_type": "code",
      "execution_count": null,
      "metadata": {
        "id": "Fczu3DL4Hpwl"
      },
      "outputs": [],
      "source": []
    }
  ]
}